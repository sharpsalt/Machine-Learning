{
 "cells": [
  {
   "cell_type": "raw",
   "id": "a2853315-7389-4f4f-ae0d-61328d502fb3",
   "metadata": {},
   "source": [
    "It will give data Anlysis\n",
    "like QnA\n",
    "\n",
    "\n",
    "Like In mNc They have seperate roles for ml engineer,data analyst,data engineer,data scientist,..etc\n",
    "\n",
    "But if you are working in Some startup Then it is necessary to know everything such as \n",
    "Data aquisition to cleaning ,data preprocessiing to modelling , to improving products\n",
    "\n",
    "When we start ML,DL..\n",
    "There is a piepline such that the series of sequence\n",
    "EDA\n",
    "  1)Data Acquisition\n",
    "  2)data PreProcessing(EDA)\n",
    "  3)Modelling(ML Projects)\n",
    "  4)Improving Prediction"
   ]
  },
  {
   "cell_type": "markdown",
   "id": "f981f5cd-86bc-486d-90df-d62963a01a40",
   "metadata": {},
   "source": [
    "EDA is very iimportant as it is done before Training models "
   ]
  }
 ],
 "metadata": {
  "kernelspec": {
   "display_name": "Python 3 (ipykernel)",
   "language": "python",
   "name": "python3"
  },
  "language_info": {
   "codemirror_mode": {
    "name": "ipython",
    "version": 3
   },
   "file_extension": ".py",
   "mimetype": "text/x-python",
   "name": "python",
   "nbconvert_exporter": "python",
   "pygments_lexer": "ipython3",
   "version": "3.11.4"
  }
 },
 "nbformat": 4,
 "nbformat_minor": 5
}
